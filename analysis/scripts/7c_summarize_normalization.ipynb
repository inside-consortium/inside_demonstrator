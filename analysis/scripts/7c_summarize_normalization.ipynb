{
 "cells": [
  {
   "cell_type": "code",
   "execution_count": 1,
   "metadata": {},
   "outputs": [],
   "source": [
    "import pandas as pd\n",
    "import numpy as np\n",
    "import matplotlib.pyplot as plt\n",
    "import seaborn as sns\n",
    "import jinja2\n",
    "import os\n",
    "\n",
    "from matplotlib.dates import DateFormatter\n",
    "\n",
    "from load_wastewater_data import *\n",
    "from plotting_tools import * \n",
    "\n",
    "# Update rcParams to set the default font to Times New Roman\n",
    "plt.style.use('default')\n",
    "plt.rcParams['font.family'] = 'serif'\n",
    "plt.rcParams['font.serif'] = 'DejaVu Serif'"
   ]
  },
  {
   "cell_type": "code",
   "execution_count": 2,
   "metadata": {},
   "outputs": [],
   "source": [
    "# define experiment to be preprocessed\n",
    "experiment_series = \"2024_09_17\"\n",
    "\n",
    "substance = \"COVID\" # one of PMMoV, COVID\n",
    "rain_scenario = \"MittelstarkerRegen\"\n",
    "degradation_settings = [\"no_decay\", \"linear_decay_0_001\", \"constant_decay_0_1\"]  # one of \"no_decay\", \"linear_decay_dynamics\", \"constant_decay_dynamics\"\n",
    "\n",
    "degradation_setting_PMMoV = \"no_decay\"\n",
    "\n",
    "normalization = \"PMMoV_normalization\""
   ]
  },
  {
   "cell_type": "code",
   "execution_count": 3,
   "metadata": {},
   "outputs": [],
   "source": [
    "df = pd.DataFrame()\n",
    "for degradation_setting in degradation_settings:\n",
    "    df_metrics = pd.read_csv(os.path.join(\"../data\", normalization, f\"metrics_{degradation_setting}_PMMoV_{degradation_setting_PMMoV}_{rain_scenario}.csv\"))\n",
    "    df_metrics[\"degradation_setting\"] = degradation_setting\n",
    "    df_metrics = df_metrics.melt(id_vars=[\"time_in_days\", \"sampling_point\", \"memilio_id\", \"degradation_setting\"], value_vars=[\"absolute_error\", \"absolute_error_unnormalized\"])\n",
    "    #df_metrics[\"rain_scenario\"] = rain_scenario\n",
    "    df = pd.concat([df, df_metrics], ignore_index=True)"
   ]
  },
  {
   "cell_type": "code",
   "execution_count": 4,
   "metadata": {},
   "outputs": [
    {
     "data": {
      "text/html": [
       "<div>\n",
       "<style scoped>\n",
       "    .dataframe tbody tr th:only-of-type {\n",
       "        vertical-align: middle;\n",
       "    }\n",
       "\n",
       "    .dataframe tbody tr th {\n",
       "        vertical-align: top;\n",
       "    }\n",
       "\n",
       "    .dataframe thead th {\n",
       "        text-align: right;\n",
       "    }\n",
       "</style>\n",
       "<table border=\"1\" class=\"dataframe\">\n",
       "  <thead>\n",
       "    <tr style=\"text-align: right;\">\n",
       "      <th></th>\n",
       "      <th>time_in_days</th>\n",
       "      <th>sampling_point</th>\n",
       "      <th>memilio_id</th>\n",
       "      <th>degradation_setting</th>\n",
       "      <th>variable</th>\n",
       "      <th>value</th>\n",
       "    </tr>\n",
       "  </thead>\n",
       "  <tbody>\n",
       "    <tr>\n",
       "      <th>0</th>\n",
       "      <td>0.002083</td>\n",
       "      <td>1</td>\n",
       "      <td>1</td>\n",
       "      <td>no_decay</td>\n",
       "      <td>absolute_error</td>\n",
       "      <td>0.0</td>\n",
       "    </tr>\n",
       "    <tr>\n",
       "      <th>1</th>\n",
       "      <td>0.002083</td>\n",
       "      <td>1</td>\n",
       "      <td>2</td>\n",
       "      <td>no_decay</td>\n",
       "      <td>absolute_error</td>\n",
       "      <td>0.0</td>\n",
       "    </tr>\n",
       "    <tr>\n",
       "      <th>2</th>\n",
       "      <td>0.002083</td>\n",
       "      <td>1</td>\n",
       "      <td>3</td>\n",
       "      <td>no_decay</td>\n",
       "      <td>absolute_error</td>\n",
       "      <td>0.0</td>\n",
       "    </tr>\n",
       "    <tr>\n",
       "      <th>3</th>\n",
       "      <td>0.002083</td>\n",
       "      <td>1</td>\n",
       "      <td>4</td>\n",
       "      <td>no_decay</td>\n",
       "      <td>absolute_error</td>\n",
       "      <td>0.0</td>\n",
       "    </tr>\n",
       "    <tr>\n",
       "      <th>4</th>\n",
       "      <td>0.002083</td>\n",
       "      <td>1</td>\n",
       "      <td>5</td>\n",
       "      <td>no_decay</td>\n",
       "      <td>absolute_error</td>\n",
       "      <td>0.0</td>\n",
       "    </tr>\n",
       "  </tbody>\n",
       "</table>\n",
       "</div>"
      ],
      "text/plain": [
       "   time_in_days  sampling_point  memilio_id degradation_setting  \\\n",
       "0      0.002083               1           1            no_decay   \n",
       "1      0.002083               1           2            no_decay   \n",
       "2      0.002083               1           3            no_decay   \n",
       "3      0.002083               1           4            no_decay   \n",
       "4      0.002083               1           5            no_decay   \n",
       "\n",
       "         variable  value  \n",
       "0  absolute_error    0.0  \n",
       "1  absolute_error    0.0  \n",
       "2  absolute_error    0.0  \n",
       "3  absolute_error    0.0  \n",
       "4  absolute_error    0.0  "
      ]
     },
     "execution_count": 4,
     "metadata": {},
     "output_type": "execute_result"
    }
   ],
   "source": [
    "df.head()"
   ]
  },
  {
   "cell_type": "code",
   "execution_count": 5,
   "metadata": {},
   "outputs": [
    {
     "data": {
      "image/png": "[encoded data removed]",
      "text/plain": [
       "<Figure size 1000x400 with 1 Axes>"
      ]
     },
     "metadata": {},
     "output_type": "display_data"
    }
   ],
   "source": [
    "# Assuming df_sub is already defined\n",
    "df_sub = df.loc[(df.sampling_point == 16), :]\n",
    "\n",
    "if rain_scenario==\"MittelstarkerRegen\":\n",
    "    c = \"navy\"\n",
    "    t = \"moderate rain showers\"\n",
    "else:\n",
    "    c = \"cornflowerblue\"\n",
    "    t = \"moderate gentle rain showers\"\n",
    "\n",
    "# Create the boxplot\n",
    "fig, ax = plt.subplots(figsize=(16.6, 4))\n",
    "sns_plot = sns.boxplot(x=\"degradation_setting\", y=\"value\", hue=\"variable\", hue_order = ['absolute_error_unnormalized', 'absolute_error'], data=df_sub, ax=ax)\n",
    "\n",
    "# Set y-axis label\n",
    "ax.set_ylabel(\"absolute error\")\n",
    "ax.set_xlabel(\"\")\n",
    "\n",
    "# Set new x-axis labels\n",
    "new_labels = ['no decay', 'exponential decay dynamics', 'linear decay dynamics']\n",
    "ax.set_xticklabels(new_labels)\n",
    "\n",
    "ax.set_yscale('symlog')\n",
    "\n",
    "labels=[\"unnormalized\",\"normalized with PMMoV\"]\n",
    "h, l = ax.get_legend_handles_labels()\n",
    "ax.legend(h, labels, title=\"\")\n",
    "\n",
    "ax.set(ylim=(-10, 5000))\n",
    "\n",
    "# Display the plot\n",
    "plt.title(t)\n",
    "plt.show()\n",
    "\n",
    "plot_path = f\"../plots/wastewater_model/normalization_summary\"\n",
    "os.makedirs(os.path.join(plot_path), exist_ok=True)\n",
    "fig.savefig(os.path.join(plot_path, f\"norm_summary_{rain_scenario}.png\"), dpi=300)"
   ]
  },
  {
   "cell_type": "code",
   "execution_count": null,
   "metadata": {},
   "outputs": [],
   "source": []
  }
 ],
 "metadata": {
  "kernelspec": {
   "display_name": ".venv",
   "language": "python",
   "name": "python3"
  },
  "language_info": {
   "codemirror_mode": {
    "name": "ipython",
    "version": 3
   },
   "file_extension": ".py",
   "mimetype": "text/x-python",
   "name": "python",
   "nbconvert_exporter": "python",
   "pygments_lexer": "ipython3",
   "version": "3.10.12"
  }
 },
 "nbformat": 4,
 "nbformat_minor": 2
}
