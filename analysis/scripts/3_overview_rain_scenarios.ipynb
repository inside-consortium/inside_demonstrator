{
 "cells": [
  {
   "cell_type": "markdown",
   "metadata": {},
   "source": [
    "Visualize the precipitation events next to each other"
   ]
  },
  {
   "cell_type": "code",
   "execution_count": null,
   "metadata": {},
   "outputs": [],
   "source": [
    "import pandas as pd\n",
    "import numpy as np\n",
    "\n",
    "import os\n",
    "\n",
    "from load_wastewater_data import *\n",
    "from plotting_tools import *\n",
    "import seaborn as sns\n",
    "\n",
    "# Update rcParams to set the default font to Times New Roman\n",
    "plt.rcParams['font.family'] = 'serif'\n",
    "plt.rcParams['font.serif'] = 'DejaVu Serif'"
   ]
  },
  {
   "cell_type": "code",
   "execution_count": null,
   "metadata": {},
   "outputs": [],
   "source": [
    "plot_path = f\"../plots/wastewater_model/\"\n",
    "os.makedirs(os.path.join(plot_path), exist_ok=True)\n",
    "os.makedirs(os.path.join(plot_path, \"rain_scenarios\"), exist_ok=True)"
   ]
  },
  {
   "cell_type": "markdown",
   "metadata": {},
   "source": [
    "# Overview of Rain Settings"
   ]
  },
  {
   "cell_type": "code",
   "execution_count": null,
   "metadata": {},
   "outputs": [],
   "source": [
    "# load data\n",
    "df_gentle = pd.read_csv(os.path.join(\"../..\", \"parameters_and_models\", \"wastewater_model\", \"nieselregen.txt\"), sep=\"\\t\")\n",
    "df_moderate = pd.read_csv(os.path.join(\"../..\", \"parameters_and_models\", \"wastewater_model\", \"mittelstarker_regen.txt\"), sep=\"\\t\")\n",
    "\n",
    "df_gentle[\"rain_scenario\"] = \"Nieselregen\"\n",
    "df_moderate[\"rain_scenario\"] = \"MittelstarkerRegen\"\n",
    "df = pd.concat([df_gentle, df_moderate])\n",
    "\n",
    "\n",
    "df.columns = [\"time\", \"l/s*ha\", \"rain_scenario\"]\n",
    "df.time = df.time / 60 / 24 # minutes -> days"
   ]
  },
  {
   "cell_type": "markdown",
   "metadata": {},
   "source": [
    "### Plot moderate precipiation events next to each other"
   ]
  },
  {
   "cell_type": "code",
   "execution_count": null,
   "metadata": {},
   "outputs": [],
   "source": [
    "fig, axs = plt.subplots(ncols=3, sharey=True, figsize=(15.5, 3), dpi=300)\n",
    "for i, (variate, variate_title) in enumerate(zip([\"Nieselregen\", \"MittelstarkerRegen\"], [\"moderate gentle rain showers\", \"moderate rain showers\"])):\n",
    "    sns.lineplot(data=df.loc[df.rain_scenario==variate,:], x=\"time\", y=\"l/s*ha\", ax=axs[i], color=[\"cornflowerblue\", \"navy\"][i])\n",
    "    axs[i].set_title(f\"{variate_title}\")    \n",
    "    axs[i].set_xlabel(f\"simulation time [days]\")\n",
    "    axs[i].set_ylim(0,140)  # Set y-limit to 0\n",
    "    if i==0:\n",
    "        axs[i].set_ylabel(f\"precipitation\\n[l/s⋅ha]\")\n",
    "    else:\n",
    "        axs[i].set_ylabel(\" \")\n",
    "    axs[i].tick_params(axis='x')\n",
    "    axs[i].tick_params(axis='y')\n",
    "\n",
    "plt.tight_layout()\n",
    "fig.savefig(os.path.join(plot_path, \"rain_scenarios\", f\"precipitation_overview_share_y.png\"))"
   ]
  },
  {
   "cell_type": "markdown",
   "metadata": {},
   "source": [
    "### Experiment with second form of visualization"
   ]
  },
  {
   "cell_type": "code",
   "execution_count": null,
   "metadata": {},
   "outputs": [],
   "source": [
    "df[\"hours\"] = df.time * 24\n",
    "\n",
    "aggregated_hours = 2\n",
    "\n",
    "bins = pd.interval_range(start=0, end=336, freq=aggregated_hours)\n",
    "\n",
    "# Use pd.cut to assign each value to a bin\n",
    "df['bin'] = pd.cut(df['hours'], bins)\n",
    "\n",
    "# Group by the bins and sum the values\n",
    "aggregated_df = df.groupby('bin')['l/s*ha'].sum().reset_index()\n",
    "\n",
    "aggregated_df[f\"days\"] = np.linspace(0, 14, len(bins))"
   ]
  },
  {
   "cell_type": "code",
   "execution_count": null,
   "metadata": {},
   "outputs": [],
   "source": [
    "aggregated_df.head()"
   ]
  },
  {
   "cell_type": "code",
   "execution_count": null,
   "metadata": {},
   "outputs": [],
   "source": [
    "plt.figure(figsize=(10, 6))\n",
    "plt.bar(aggregated_df[f'days'], aggregated_df['l/s*ha'], width=1/24*aggregated_hours, edgecolor='black')\n",
    "\n",
    "# Add labels and title\n",
    "plt.xlabel('simulation time (days)')\n",
    "plt.ylabel('precipitation (l/s*ha)')\n",
    "plt.title('Histogram of Precipitation over Time')"
   ]
  },
  {
   "cell_type": "code",
   "execution_count": null,
   "metadata": {},
   "outputs": [],
   "source": []
  }
 ],
 "metadata": {
  "kernelspec": {
   "display_name": ".venv",
   "language": "python",
   "name": "python3"
  },
  "language_info": {
   "codemirror_mode": {
    "name": "ipython",
    "version": 3
   },
   "file_extension": ".py",
   "mimetype": "text/x-python",
   "name": "python",
   "nbconvert_exporter": "python",
   "pygments_lexer": "ipython3",
   "version": "3.10.12"
  }
 },
 "nbformat": 4,
 "nbformat_minor": 2
}
