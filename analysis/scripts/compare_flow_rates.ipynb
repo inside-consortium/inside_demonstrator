{
 "cells": [
  {
   "cell_type": "code",
   "execution_count": 1,
   "metadata": {},
   "outputs": [],
   "source": [
    "import pandas as pd\n",
    "import numpy as np\n",
    "import matplotlib.pyplot as plt\n",
    "import os\n",
    "import seaborn as sns\n",
    "from matplotlib.dates import DateFormatter"
   ]
  },
  {
   "cell_type": "code",
   "execution_count": 2,
   "metadata": {},
   "outputs": [],
   "source": [
    "# Update rcParams to set the default font to Times New Roman\n",
    "plt.rcParams['font.family'] = 'serif'\n",
    "plt.rcParams['font.serif'] = 'DejaVu Serif'"
   ]
  },
  {
   "cell_type": "code",
   "execution_count": 3,
   "metadata": {},
   "outputs": [],
   "source": [
    "def load_systems_data(degradation_setting, rain_scenario, file_type=\"concentrations\"):\n",
    "    if file_type==\"concentrations\":\n",
    "        df_res = pd.read_csv(os.path.join(\"systems_output\", \"preprocessed\", f\"{degradation_setting}_{rain_scenario}.csv\"))\n",
    "        df_res = df_res.loc[df_res.minutes>0,:]\n",
    "    elif file_type==\"flow_rates\":\n",
    "        df_res = pd.read_csv(os.path.join(\"systems_output\", \"preprocessed\", f\"flow_rates_{degradation_setting}_{rain_scenario}.csv\"))\n",
    "        df_res.minutes = df_res.minutes - 70 # ensure time consistency with concentrations\n",
    "        df_res = df_res.loc[df_res.minutes>0,:]\n",
    "    else:\n",
    "        assert False, f\"file_type {file_type} not supported\"\n",
    "\n",
    "    df_res.time = pd.to_datetime(df_res.time)\n",
    "\n",
    "    # drop MW064, RW156 (invalid calculations of ++systems)\n",
    "    df_res = df_res.loc[~df_res.sampling_point.isin([\"MW064\", \"RW156\"]), :]\n",
    "    # rename sampling locations according to naming in the paper\n",
    "    df_res.sampling_point = df_res.sampling_point.map({\"MW022\": \"1\", \"MW023\": \"2\", \"MW017\": \"3\", \"MW043\": \"4\", \"MW048\": \"5\", \n",
    "                        \"RW157\": \"6\", \"MW046\": \"7\", \"MW061\": \"8\", \"RW143\": \"9\", \"RW141\": \"10\",\n",
    "                        \"RW155\": \"11\", \"MW059\": \"12\", \"RW211\": \"13\", \"MW054\": \"14\",\n",
    "                        \"RW126\": \"15\", \"MW052\": \"16\"})\n",
    "    return df_res"
   ]
  },
  {
   "cell_type": "code",
   "execution_count": 27,
   "metadata": {},
   "outputs": [],
   "source": [
    "rain_scenarios = [\"KeinRegen\", \"Nieselregen\", \"MittelstarkerRegen\"]\n",
    "degradation_setting = \"no_degradation\"\n",
    "df_1 = load_systems_data(degradation_setting, rain_scenarios[0], file_type=\"flow_rates\")\n",
    "df_2 = load_systems_data(degradation_setting, rain_scenarios[1], file_type=\"flow_rates\")\n",
    "df_3 = load_systems_data(degradation_setting, rain_scenarios[2], file_type=\"flow_rates\")"
   ]
  },
  {
   "cell_type": "code",
   "execution_count": null,
   "metadata": {},
   "outputs": [
    {
     "data": {
      "text/html": [
       "<div>\n",
       "<style scoped>\n",
       "    .dataframe tbody tr th:only-of-type {\n",
       "        vertical-align: middle;\n",
       "    }\n",
       "\n",
       "    .dataframe tbody tr th {\n",
       "        vertical-align: top;\n",
       "    }\n",
       "\n",
       "    .dataframe thead th {\n",
       "        text-align: right;\n",
       "    }\n",
       "</style>\n",
       "<table border=\"1\" class=\"dataframe\">\n",
       "  <thead>\n",
       "    <tr style=\"text-align: right;\">\n",
       "      <th></th>\n",
       "      <th>minutes</th>\n",
       "      <th>l/s</th>\n",
       "      <th>memilio_id</th>\n",
       "      <th>time</th>\n",
       "    </tr>\n",
       "  </thead>\n",
       "  <tbody>\n",
       "    <tr>\n",
       "      <th>count</th>\n",
       "      <td>1.427659e+06</td>\n",
       "      <td>1.427659e+06</td>\n",
       "      <td>1.427659e+06</td>\n",
       "      <td>1427659</td>\n",
       "    </tr>\n",
       "    <tr>\n",
       "      <th>mean</th>\n",
       "      <td>9.977528e+03</td>\n",
       "      <td>1.724454e-01</td>\n",
       "      <td>1.220218e+02</td>\n",
       "      <td>2024-01-07 23:27:31.706437376</td>\n",
       "    </tr>\n",
       "    <tr>\n",
       "      <th>min</th>\n",
       "      <td>1.000000e+00</td>\n",
       "      <td>1.600100e-01</td>\n",
       "      <td>1.000000e+00</td>\n",
       "      <td>2024-01-01 01:11:00</td>\n",
       "    </tr>\n",
       "    <tr>\n",
       "      <th>25%</th>\n",
       "      <td>4.934000e+03</td>\n",
       "      <td>1.694000e-01</td>\n",
       "      <td>5.800000e+01</td>\n",
       "      <td>2024-01-04 11:24:00</td>\n",
       "    </tr>\n",
       "    <tr>\n",
       "      <th>50%</th>\n",
       "      <td>1.010900e+04</td>\n",
       "      <td>1.734400e-01</td>\n",
       "      <td>1.190000e+02</td>\n",
       "      <td>2024-01-08 01:39:00</td>\n",
       "    </tr>\n",
       "    <tr>\n",
       "      <th>75%</th>\n",
       "      <td>1.505400e+04</td>\n",
       "      <td>1.763800e-01</td>\n",
       "      <td>1.860000e+02</td>\n",
       "      <td>2024-01-11 12:04:00</td>\n",
       "    </tr>\n",
       "    <tr>\n",
       "      <th>max</th>\n",
       "      <td>2.016400e+04</td>\n",
       "      <td>1.789900e-01</td>\n",
       "      <td>2.500000e+02</td>\n",
       "      <td>2024-01-15 01:14:00</td>\n",
       "    </tr>\n",
       "    <tr>\n",
       "      <th>std</th>\n",
       "      <td>5.809567e+03</td>\n",
       "      <td>4.683059e-03</td>\n",
       "      <td>7.253636e+01</td>\n",
       "      <td>NaN</td>\n",
       "    </tr>\n",
       "  </tbody>\n",
       "</table>\n",
       "</div>"
      ],
      "text/plain": [
       "            minutes           l/s    memilio_id                           time\n",
       "count  1.427659e+06  1.427659e+06  1.427659e+06                        1427659\n",
       "mean   9.977528e+03  1.724454e-01  1.220218e+02  2024-01-07 23:27:31.706437376\n",
       "min    1.000000e+00  1.600100e-01  1.000000e+00            2024-01-01 01:11:00\n",
       "25%    4.934000e+03  1.694000e-01  5.800000e+01            2024-01-04 11:24:00\n",
       "50%    1.010900e+04  1.734400e-01  1.190000e+02            2024-01-08 01:39:00\n",
       "75%    1.505400e+04  1.763800e-01  1.860000e+02            2024-01-11 12:04:00\n",
       "max    2.016400e+04  1.789900e-01  2.500000e+02            2024-01-15 01:14:00\n",
       "std    5.809567e+03  4.683059e-03  7.253636e+01                            NaN"
      ]
     },
     "execution_count": 23,
     "metadata": {},
     "output_type": "execute_result"
    }
   ],
   "source": [
    "df_1.describe()"
   ]
  },
  {
   "cell_type": "code",
   "execution_count": null,
   "metadata": {},
   "outputs": [],
   "source": [
    "# delete extreme values at the beginning and end\n",
    "df_1 = df_1.loc[df_1[\"l/s\"]<0.179,:]\n",
    "df_1 = df_1.loc[df_1[\"l/s\"]>0.163,:]"
   ]
  },
  {
   "cell_type": "code",
   "execution_count": null,
   "metadata": {},
   "outputs": [],
   "source": [
    "df_1[\"rain_scenario\"] = rain_scenarios[0]\n",
    "df_2[\"rain_scenario\"] = rain_scenarios[1]\n",
    "df_3[\"rain_scenario\"] = rain_scenarios[2]\n",
    "df_rain = pd.concat([df_1, df_2, df_3])"
   ]
  },
  {
   "cell_type": "code",
   "execution_count": null,
   "metadata": {},
   "outputs": [],
   "source": [
    "del df_1, df_2, df_3"
   ]
  },
  {
   "cell_type": "code",
   "execution_count": null,
   "metadata": {},
   "outputs": [
    {
     "name": "stderr",
     "output_type": "stream",
     "text": [
      "/tmp/ipykernel_13562/3507862855.py:17: UserWarning: set_ticklabels() should only be used with a fixed number of ticks, i.e. after set_ticks() or using a FixedLocator.\n",
      "  axs[i].set_xticklabels([\"0\", \"2\", \"4\", \"6\", \"8\", \"10\", \"12\", \"14\"])\n",
      "/tmp/ipykernel_13562/3507862855.py:17: UserWarning: set_ticklabels() should only be used with a fixed number of ticks, i.e. after set_ticks() or using a FixedLocator.\n",
      "  axs[i].set_xticklabels([\"0\", \"2\", \"4\", \"6\", \"8\", \"10\", \"12\", \"14\"])\n",
      "/tmp/ipykernel_13562/3507862855.py:17: UserWarning: set_ticklabels() should only be used with a fixed number of ticks, i.e. after set_ticks() or using a FixedLocator.\n",
      "  axs[i].set_xticklabels([\"0\", \"2\", \"4\", \"6\", \"8\", \"10\", \"12\", \"14\"])\n"
     ]
    }
   ],
   "source": [
    "date_form = DateFormatter(\"%-d\")\n",
    "\n",
    "\n",
    "def rain_scenarios_next_to_each_other(station):\n",
    "    df_station = df_rain.loc[df_rain.sampling_point==station,:].sort_values(\"time\")\n",
    "\n",
    "    fig, axs = plt.subplots(ncols=3, sharey=False, figsize=(18, 6), dpi=300)\n",
    "    for i, (variate, variate_title) in enumerate(zip(rain_scenarios, [\"no precipitation\", \"moderate gentle rain showers\", \"moderate rain showers\"])):\n",
    "        sns.lineplot(data=df_station.loc[df_station.rain_scenario==variate,:], x=\"time\", y=\"l/s\", ax=axs[i], color=[\"slategray\", \"cornflowerblue\", \"navy\"][i])\n",
    "        axs[i].set_title(f\"{variate_title}\", fontsize=20)    \n",
    "        axs[i].xaxis.set_major_formatter(date_form) \n",
    "        axs[i].set_xlabel(f\"simulation time (days)\", fontsize=15)\n",
    "        if i==0:\n",
    "            axs[i].set_ylabel(f\"l/s\", fontsize=15)\n",
    "        else:\n",
    "            axs[i].set_ylabel(\"\")\n",
    "        axs[i].set_xticklabels([\"0\", \"2\", \"4\", \"6\", \"8\", \"10\", \"12\", \"14\"])\n",
    "        axs[i].tick_params(axis='x', labelsize=12)\n",
    "        axs[i].tick_params(axis='y', labelsize=12)\n",
    "\n",
    "    axs[0].set_ylim(0.0, 0.3)\n",
    "    axs[1].set_ylim(0.0, 100)\n",
    "    #axs[2].set_ylim(0.16, 0.179)\n",
    "\n",
    "    fig.savefig(os.path.join(\"systems_output\", \"plots\", \"station_concentration\", \"rain_scenarios\", f\"flow_rates_{degradation_setting}_{station}.png\"))\n",
    "    plt.close(fig)\n",
    "\n",
    "for station in [\"16\"]: #, \"16\"\n",
    "    rain_scenarios_next_to_each_other(station)"
   ]
  },
  {
   "cell_type": "code",
   "execution_count": null,
   "metadata": {},
   "outputs": [],
   "source": []
  }
 ],
 "metadata": {
  "kernelspec": {
   "display_name": ".venv",
   "language": "python",
   "name": "python3"
  },
  "language_info": {
   "codemirror_mode": {
    "name": "ipython",
    "version": 3
   },
   "file_extension": ".py",
   "mimetype": "text/x-python",
   "name": "python",
   "nbconvert_exporter": "python",
   "pygments_lexer": "ipython3",
   "version": "3.10.12"
  }
 },
 "nbformat": 4,
 "nbformat_minor": 2
}
