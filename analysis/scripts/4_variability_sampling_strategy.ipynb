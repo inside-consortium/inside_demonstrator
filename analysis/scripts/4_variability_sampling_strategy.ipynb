{
 "cells": [
  {
   "cell_type": "code",
   "execution_count": null,
   "metadata": {},
   "outputs": [],
   "source": [
    "import pandas as pd\n",
    "import numpy as np\n",
    "\n",
    "import os\n",
    "\n",
    "from load_wastewater_data import *\n",
    "from plotting_tools import *\n",
    "import seaborn as sns\n",
    "\n",
    "# Update rcParams to set the default font to Times New Roman\n",
    "plt.rcParams['font.family'] = 'serif'\n",
    "plt.rcParams['font.serif'] = 'DejaVu Serif'"
   ]
  },
  {
   "cell_type": "code",
   "execution_count": null,
   "metadata": {},
   "outputs": [],
   "source": [
    "# define experiment to be preprocessed\n",
    "experiment_series = \"2024_09_17\"\n",
    "\n",
    "resolution = \"3_min_resolution\"\n",
    "rain_scenario = \"KeinRegen\" # one of KeinRegen, Nieselregen, MittelstarkerRegen\n",
    "degradation_setting = \"no_decay\" # one of \"no_decay\", \"linear_decay_dynamics\", \"constant_decay_dynamics\""
   ]
  },
  {
   "cell_type": "code",
   "execution_count": null,
   "metadata": {},
   "outputs": [],
   "source": [
    "df = load_systems_data(experiment_series, resolution, rain_scenario, degradation_setting, file_type=\"concentrations\")"
   ]
  },
  {
   "cell_type": "code",
   "execution_count": null,
   "metadata": {},
   "outputs": [],
   "source": [
    "plot_path = f\"../plots/sampling_strategies\"\n",
    "os.makedirs(os.path.join(plot_path), exist_ok=True)\n",
    "file_name_prefix = f\"{resolution}_{rain_scenario}_{degradation_setting}\""
   ]
  },
  {
   "cell_type": "code",
   "execution_count": null,
   "metadata": {},
   "outputs": [],
   "source": [
    "df[\"time\"] = pd.Timestamp(\"2024-01-01\") + pd.to_timedelta(df[\"minutes\"], unit=\"minutes\")"
   ]
  },
  {
   "cell_type": "code",
   "execution_count": null,
   "metadata": {},
   "outputs": [],
   "source": [
    "df.time.min(), df.time.max()"
   ]
  },
  {
   "cell_type": "markdown",
   "metadata": {},
   "source": [
    "## Preprocessing"
   ]
  },
  {
   "cell_type": "code",
   "execution_count": null,
   "metadata": {},
   "outputs": [],
   "source": [
    "def simulate_sampling_strategies(df, resolution):\n",
    "    df.time = pd.to_datetime(df.time)\n",
    "    df[\"day\"]= [el.day for el in df.time]\n",
    "    df[\"hour\"] = [el.hour for el in df.time]\n",
    "\n",
    "    # resample every 3 minutes and fill with the last available value\n",
    "    resampled_df = df.set_index(\"time\").groupby([\"sampling_point\", \"memilio_id\"]).resample(f\"{resolution}min\").ffill()\n",
    "    # get hourly measurements\n",
    "    resampled_df = resampled_df.loc[resampled_df.minutes.mod(60) == 0,:]\n",
    "    # fix column naming and index\n",
    "    resampled_df.index = [el[2] for el in resampled_df.index]\n",
    "    resampled_df = resampled_df.reset_index().rename(columns={\"index\": \"time\"})\n",
    "    # calculate 24h samples\n",
    "    df_24h = resampled_df.groupby([\"sampling_point\", \"memilio_id\", \"day\"]).mean().reset_index().rename(columns={\"COVID_copies/l\": \"COVID_24h_sample\", \"PMMoV_copies/l\": \"PMMoV_24h_sample\"})\n",
    "    # only consider 24h samples with 24h of data\n",
    "    df_24h = df_24h.loc[df_24h.hour==11.5, [\"time\", \"time_in_days\", \"sampling_point\", \"memilio_id\", \"COVID_24h_sample\", \"PMMoV_24h_sample\"]]\n",
    "    df_24h[\"time_in_days\"] = df_24h[\"time_in_days\"] + 1.5/24 # plot at 14:00\n",
    "\n",
    "    # extract morning sample column\n",
    "    df_morning_sample = resampled_df.loc[resampled_df.hour==10,:].rename(columns={\"COVID_copies/l\": \"COVID_morning_sample\", \"PMMoV_copies/l\": \"PMMoV_morning_sample\"}).loc[:,  [\"time\", \"time_in_days\", \"sampling_point\", \"memilio_id\", \"COVID_morning_sample\", \"PMMoV_morning_sample\"]]\n",
    "    # combine everything\n",
    "    df_measurements = pd.merge(df, pd.merge(df_24h, df_morning_sample, on=[\"sampling_point\", \"memilio_id\", \"time\", \"time_in_days\"], how=\"outer\"), on=[\"sampling_point\", \"memilio_id\", \"time\", \"time_in_days\"], how=\"outer\")\n",
    "    return df_measurements"
   ]
  },
  {
   "cell_type": "code",
   "execution_count": null,
   "metadata": {},
   "outputs": [],
   "source": [
    "df_sampling = simulate_sampling_strategies(df, 3)"
   ]
  },
  {
   "cell_type": "markdown",
   "metadata": {},
   "source": [
    "## Metrics"
   ]
  },
  {
   "cell_type": "code",
   "execution_count": null,
   "metadata": {},
   "outputs": [],
   "source": [
    "sampling_point = \"1\""
   ]
  },
  {
   "cell_type": "code",
   "execution_count": null,
   "metadata": {},
   "outputs": [],
   "source": [
    "metric_24h_sample = df_sampling[[\"time_in_days\", \"sampling_point\", \"memilio_id\", \"COVID_24h_sample\", \"COVID_copies/l\"]].copy()\n",
    "metric_24h_sample = metric_24h_sample.loc[metric_24h_sample.sampling_point==sampling_point]\n",
    "\n",
    "# take average across simulations\n",
    "metric_24h_sample = metric_24h_sample.groupby(\"time_in_days\")[[\"COVID_24h_sample\", \"COVID_copies/l\"]].mean().sort_index()\n",
    "# interpolate linearly between 24h samples\n",
    "metric_24h_sample[\"COVID_24h_sample\"] = metric_24h_sample[\"COVID_24h_sample\"].interpolate(method=\"linear\")\n",
    "# calculate MAE\n",
    "metric_24h_sample[\"MAE\"] = np.abs(metric_24h_sample[\"COVID_24h_sample\"] - metric_24h_sample[\"COVID_copies/l\"])"
   ]
  },
  {
   "cell_type": "code",
   "execution_count": null,
   "metadata": {},
   "outputs": [],
   "source": [
    "metric_24h_sample.describe()"
   ]
  },
  {
   "cell_type": "code",
   "execution_count": null,
   "metadata": {},
   "outputs": [],
   "source": [
    "metric_morning_sample = df_sampling[[\"time_in_days\", \"sampling_point\", \"memilio_id\", \"COVID_morning_sample\", \"COVID_copies/l\"]].copy()\n",
    "metric_morning_sample = metric_morning_sample.loc[metric_morning_sample.sampling_point==sampling_point]\n",
    "\n",
    "# take average across simulations\n",
    "metric_morning_sample = metric_morning_sample.groupby(\"time_in_days\")[[\"COVID_morning_sample\", \"COVID_copies/l\"]].mean().sort_index()\n",
    "# interpolate linearly between 24h samples\n",
    "metric_morning_sample[\"COVID_morning_sample\"] = metric_morning_sample[\"COVID_morning_sample\"].interpolate(method=\"linear\")\n",
    "# calculate MAE\n",
    "metric_morning_sample[\"MAE\"] = np.abs(metric_morning_sample[\"COVID_morning_sample\"] - metric_morning_sample[\"COVID_copies/l\"])"
   ]
  },
  {
   "cell_type": "code",
   "execution_count": null,
   "metadata": {},
   "outputs": [],
   "source": [
    "metric_morning_sample.describe()"
   ]
  },
  {
   "cell_type": "code",
   "execution_count": null,
   "metadata": {},
   "outputs": [],
   "source": [
    "MAE_df = pd.DataFrame({\"24h_sample\": metric_24h_sample[\"MAE\"], \"morning_sample\": metric_morning_sample[\"MAE\"]})"
   ]
  },
  {
   "cell_type": "code",
   "execution_count": null,
   "metadata": {},
   "outputs": [],
   "source": [
    "fig, ax = plt.subplots(figsize = (6,4), dpi=300)\n",
    "sns.boxplot(data=MAE_df, linewidth=1.5)\n",
    "ax.set_ylabel(f\"absolute error\")\n",
    "ax.set_xticklabels([\"24-hour\\ncompound sample\", \"daily\\ngrab sample\"], size=15)\n",
    "ax.tick_params(axis='y')\n",
    "plt.tight_layout()\n",
    "plt.savefig(os.path.join(plot_path, f\"{file_name_prefix}_station_{sampling_point}_error.png\"))"
   ]
  },
  {
   "cell_type": "markdown",
   "metadata": {},
   "source": [
    "## Visualizations"
   ]
  },
  {
   "cell_type": "code",
   "execution_count": null,
   "metadata": {},
   "outputs": [],
   "source": [
    "# from wide to long\n",
    "df_sampling = pd.melt(df_sampling, id_vars=[\"time_in_days\", \"sampling_point\", \"memilio_id\"], value_vars=[\"COVID_24h_sample\", \"COVID_morning_sample\", \"COVID_copies/l\"]).dropna()"
   ]
  },
  {
   "cell_type": "code",
   "execution_count": null,
   "metadata": {},
   "outputs": [],
   "source": [
    "df_sampling.head()"
   ]
  },
  {
   "cell_type": "code",
   "execution_count": null,
   "metadata": {},
   "outputs": [],
   "source": [
    "def plot_sampling_strategies(df_sampling, station, save_fig=False):\n",
    "    df_curr = df_sampling.loc[df_sampling.sampling_point==station, :]\n",
    "\n",
    "    # Use Seaborn's default 95% confidence interval with error bars\n",
    "    fig, ax = plt.subplots(figsize=(9, 4), dpi=300) \n",
    "    sns.lineplot(df_curr.loc[df_curr.variable == \"COVID_copies/l\", :], ax=ax, x=\"time_in_days\", y=\"value\", color=\"#2ca02c\", label=\"reference\", legend=False, alpha=0.2)\n",
    "\n",
    "    ax2 = ax.twinx()\n",
    "    sns.lineplot(df_curr.loc[df_curr.variable == \"COVID_morning_sample\", :], ax=ax2, x=\"time_in_days\", y=\"value\", errorbar=None, color=\"#ff7f0e\", marker=\"o\", label=\"daily grab sample\")\n",
    "    sns.lineplot(df_curr.loc[df_curr.variable == \"COVID_24h_sample\", :], ax=ax2, x=\"time_in_days\", y=\"value\", errorbar=None, color=\"steelblue\", marker=\"o\", label=\"24-hour compound sample\")\n",
    "\n",
    "    # Calculate and add 95% CI as error bars\n",
    "    ci_morning = df_curr[df_curr.variable == \"COVID_morning_sample\"].groupby(\"time_in_days\")['value'].agg(['mean', 'sem'])\n",
    "    ci_24h = df_curr[df_curr.variable == \"COVID_24h_sample\"].groupby(\"time_in_days\")['value'].agg(['mean', 'sem'])\n",
    "\n",
    "    ax2.errorbar(ci_morning.index, ci_morning['mean'], yerr=1.96 * ci_morning['sem'], fmt='o', color=\"#ff7f0e\", capsize=4)\n",
    "    ax2.errorbar(ci_24h.index, ci_24h['mean'], yerr=1.96 * ci_24h['sem'], fmt='o', color=\"steelblue\", capsize=4)\n",
    "\n",
    "    ax.set_ylabel('virus levels [copies/l]')\n",
    "    ax.set_xticks([0, 2, 4, 6, 8, 10, 12, 14])\n",
    "    ax.set_xticklabels(['0', '2', '4', '6', '8', '10', '12', '14'])\n",
    "    ax.set_xlabel(\"simulation time [days]\")\n",
    "\n",
    "    ax2.set_ylabel(None)\n",
    "    ax2.set_yticks([])\n",
    "\n",
    "    ax.set(ylim=(0, 500), xlim=(-0.5, 14.5))\n",
    "    ax2.set(ylim=(0, 500), xlim=(-0.5, 14.5))\n",
    "\n",
    "    lines, labels = ax.get_legend_handles_labels()\n",
    "    lines2, labels2 = ax2.get_legend_handles_labels()\n",
    "    ax2.legend(lines + lines2, labels + labels2)\n",
    "\n",
    "    if save_fig:\n",
    "        plt.tight_layout()\n",
    "        plt.savefig(os.path.join(plot_path, f\"{file_name_prefix}_station_{station}.png\"))\n",
    "        plt.close(fig)\n",
    "    else:\n",
    "        plt.close(fig)\n",
    "        return fig"
   ]
  },
  {
   "cell_type": "code",
   "execution_count": null,
   "metadata": {},
   "outputs": [],
   "source": [
    "plot_sampling_strategies(df_sampling, \"16\", save_fig=False)"
   ]
  },
  {
   "cell_type": "code",
   "execution_count": null,
   "metadata": {},
   "outputs": [],
   "source": [
    "for station in [\"1\", \"11\", \"16\"]: # [\"1\", \"2\", \"8\", \"16\"]: # df_sampling.sampling_point.unique():\n",
    "    plot_sampling_strategies(df_sampling, station, save_fig=True)"
   ]
  },
  {
   "cell_type": "code",
   "execution_count": null,
   "metadata": {},
   "outputs": [],
   "source": []
  }
 ],
 "metadata": {
  "kernelspec": {
   "display_name": ".venv",
   "language": "python",
   "name": "python3"
  },
  "language_info": {
   "codemirror_mode": {
    "name": "ipython",
    "version": 3
   },
   "file_extension": ".py",
   "mimetype": "text/x-python",
   "name": "python",
   "nbconvert_exporter": "python",
   "pygments_lexer": "ipython3",
   "version": "3.10.12"
  }
 },
 "nbformat": 4,
 "nbformat_minor": 2
}
