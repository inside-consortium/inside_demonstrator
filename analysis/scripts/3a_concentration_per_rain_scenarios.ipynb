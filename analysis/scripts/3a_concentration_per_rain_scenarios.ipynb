{
 "cells": [
  {
   "cell_type": "code",
   "execution_count": 1,
   "metadata": {},
   "outputs": [],
   "source": [
    "import pandas as pd\n",
    "import numpy as np\n",
    "\n",
    "import os\n",
    "\n",
    "from load_wastewater_data import *\n",
    "from plotting_tools import *\n",
    "import seaborn as sns\n",
    "\n",
    "# Update rcParams to set the default font to Times New Roman\n",
    "plt.rcParams['font.family'] = 'serif'\n",
    "plt.rcParams['font.serif'] = 'DejaVu Serif'"
   ]
  },
  {
   "cell_type": "code",
   "execution_count": 2,
   "metadata": {},
   "outputs": [],
   "source": [
    "# define experiment to be preprocessed\n",
    "experiment_series = \"2024_09_17\"\n",
    "\n",
    "resolution = \"3_min_resolution\" \n",
    "degradation_setting = \"no_decay\" # one of \"no_decay\", \"linear_decay_0_0001\", \"constant_decay_dynamics\""
   ]
  },
  {
   "cell_type": "code",
   "execution_count": 3,
   "metadata": {},
   "outputs": [],
   "source": [
    "plot_path = f\"../plots/wastewater_model/rain_scenarios\"\n",
    "os.makedirs(os.path.join(plot_path), exist_ok=True)\n",
    "file_name = f\"concentrations_{resolution}_{degradation_setting}\""
   ]
  },
  {
   "cell_type": "markdown",
   "metadata": {},
   "source": [
    "Load data"
   ]
  },
  {
   "cell_type": "code",
   "execution_count": 4,
   "metadata": {},
   "outputs": [],
   "source": [
    "rain_scenarios = [\"KeinRegen\", \"Nieselregen\", \"MittelstarkerRegen\"]\n",
    "\n",
    "# Load data\n",
    "df_1 = load_systems_data(experiment_series, resolution, rain_scenarios[0], degradation_setting, file_type=\"concentrations\")\n",
    "df_2 = load_systems_data(experiment_series, resolution, rain_scenarios[1], degradation_setting, file_type=\"concentrations\")\n",
    "df_3 = load_systems_data(experiment_series, resolution, rain_scenarios[2], degradation_setting, file_type=\"concentrations\")\n",
    "\n",
    "df_1[\"rain_scenario\"] = rain_scenarios[0]\n",
    "df_2[\"rain_scenario\"] = rain_scenarios[1]\n",
    "df_3[\"rain_scenario\"] = rain_scenarios[2]\n",
    "df_rain = pd.concat([df_1, df_2, df_3])"
   ]
  },
  {
   "cell_type": "markdown",
   "metadata": {},
   "source": [
    "## Visualizations"
   ]
  },
  {
   "cell_type": "markdown",
   "metadata": {},
   "source": [
    "#### plot rain scenarios next to each other"
   ]
  },
  {
   "cell_type": "code",
   "execution_count": 5,
   "metadata": {},
   "outputs": [],
   "source": [
    "def rain_scenarios_next_to_each_other(station):\n",
    "    df_station = df_rain.loc[df_rain.sampling_point==station,:].sort_values(\"time_in_days\")\n",
    "\n",
    "    fig, axs = plt.subplots(ncols=3, sharey=True, sharex=True, figsize=(15.5, 3), dpi=300)\n",
    "    for i, (variate, variate_title) in enumerate(zip([\"KeinRegen\", \"Nieselregen\", \"MittelstarkerRegen\"], [\"no precipitation\", \"moderate gentle rain showers\", \"moderate rain showers\"])):\n",
    "        sns.lineplot(data=df_station.loc[df_station.rain_scenario==variate,:], x=\"time_in_days\", y=\"COVID_copies/l\", ax=axs[i], color=[\"slategray\", \"cornflowerblue\", \"navy\"][i])\n",
    "        axs[i].set_title(f\"{variate_title}\")    \n",
    "        axs[i].set_xlabel(f\"simulation time [days]\")\n",
    "        if i==0:\n",
    "            axs[i].set_ylabel(f\"virus levels\\n[copies/l]\")\n",
    "        else:\n",
    "            axs[i].set_ylabel(\"\")\n",
    "        axs[i].tick_params(axis='x')\n",
    "        axs[i].tick_params(axis='y')\n",
    "        axs[i].set_ylim(0,430)\n",
    "\n",
    "    axs[0].set_xticks(np.arange(0, 15, 2))\n",
    "    \n",
    "    plt.tight_layout()\n",
    "    fig.savefig(os.path.join(plot_path, file_name + f\"_station_{station}.png\"))\n",
    "    plt.close(fig)\n",
    "\n",
    "\n",
    "\n",
    "for station in [\"16\"]:\n",
    "    rain_scenarios_next_to_each_other(station)"
   ]
  },
  {
   "cell_type": "markdown",
   "metadata": {},
   "source": [
    "#### Plot rain scenarios on top of each other"
   ]
  },
  {
   "cell_type": "code",
   "execution_count": null,
   "metadata": {},
   "outputs": [],
   "source": [
    "def plot_rain_scenarios(df_rain, station, save_fig=False):\n",
    "    fig, ax = plt.subplots(figsize = (12,6)) \n",
    "    df_sub = df_rain.loc[df_rain.sampling_point==station, :].sort_values(\"time_in_days\")\n",
    "    n_nans = df_sub.isna().sum()[\"COVID_copies/l\"]\n",
    "    print(f\"{station}: {n_nans} NaNs detected, {df_sub.shape[0]} samples in total\")\n",
    "    if n_nans>0:\n",
    "        print(\"Dropping NaNs\")\n",
    "        df_sub = df_sub.dropna()\n",
    "    sns.lineplot(df_sub, x=\"time_in_days\", y=\"COVID_copies/l\", hue=\"rain_scenario\")\n",
    "    plt.title(f\"{station}\")\n",
    "    plt.xlabel('simulation time [days]')\n",
    "    plt.ylabel('virus levels [copies/l]')\n",
    "    plt.close(fig)\n",
    "    return fig"
   ]
  },
  {
   "cell_type": "code",
   "execution_count": null,
   "metadata": {},
   "outputs": [],
   "source": [
    "plot_rain_scenarios(df_rain, \"16\")"
   ]
  },
  {
   "cell_type": "code",
   "execution_count": null,
   "metadata": {},
   "outputs": [],
   "source": []
  }
 ],
 "metadata": {
  "kernelspec": {
   "display_name": ".venv",
   "language": "python",
   "name": "python3"
  },
  "language_info": {
   "codemirror_mode": {
    "name": "ipython",
    "version": 3
   },
   "file_extension": ".py",
   "mimetype": "text/x-python",
   "name": "python",
   "nbconvert_exporter": "python",
   "pygments_lexer": "ipython3",
   "version": "3.10.12"
  }
 },
 "nbformat": 4,
 "nbformat_minor": 2
}
