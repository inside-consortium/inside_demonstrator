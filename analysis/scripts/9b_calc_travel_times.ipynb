{
 "cells": [
  {
   "cell_type": "code",
   "metadata": {
    "ExecuteTime": {
     "end_time": "2025-03-23T15:40:05.682699Z",
     "start_time": "2025-03-23T15:40:05.678727Z"
    }
   },
   "source": "import pandas as pd",
   "outputs": [],
   "execution_count": 2
  },
  {
   "cell_type": "code",
   "metadata": {
    "ExecuteTime": {
     "end_time": "2025-03-23T15:40:06.486060Z",
     "start_time": "2025-03-23T15:40:06.483567Z"
    }
   },
   "source": [
    "# define experiment to be preprocessed\n",
    "experiment_series = \"2024_09_17\""
   ],
   "outputs": [],
   "execution_count": 3
  },
  {
   "metadata": {
    "ExecuteTime": {
     "end_time": "2025-03-23T15:41:28.842269Z",
     "start_time": "2025-03-23T15:41:28.831403Z"
    }
   },
   "cell_type": "code",
   "source": [
    "# Define upstream manholes for each sampling point\n",
    "upstream_1 = [\"MW000\", \"MW020\", \"MW021\", \"MW022\"]\n",
    "upstream_2 = [\"MW023\", \"MW024\", \"MW025\"] \n",
    "upstream_3 = upstream_1 + upstream_2 + [\"MW017\", \"MW018\"] \n",
    "upstream_4 = upstream_3 + [\"MW016\", \"MW015\", \"MW014\", \"MW029\", \"MW033\", \"MW038\", \"MW043\"]\n",
    "upstream_5 = [\"MW077\", \"MW076\", \"MW075\", \"MW074\", \"MW073\", \"MW072\", \"MW071\", \"MW070\", \"MW069\", \"MW067\", \"MW051\", \"MW050\", \"MW049\", \"MW048\"]\n",
    "upstream_6 = [\"RW147\", \"RW146\", \"RW145\", \"RW144\", \"RW161\", \"RW160\", \"RW159\", \"RW158\", \"RW157\"]\n",
    "upstream_7 = upstream_4 + upstream_5 + upstream_6 + [\"MW047\", \"MW046\"]\n",
    "upstream_8 = upstream_7 + [\"MW045\", \"MW061\"]\n",
    "upstream_9 = [\"RW147\", \"RW146\", \"RW145\", \"RW144\", \"RW143\"]\n",
    "upstream_10 = upstream_9 + [\"RW142\", \"RW141\"]\n",
    "upstream_11 = upstream_9 + [\"RW142\", \"RW156\", \"RW152\", \"RW153\", \"RW154\", \"RW155\"]\n",
    "upstream_12 = upstream_8 + upstream_11 + [\"MW060\", \"MW059\"]\n",
    "upstream_13 = [\"RW224\", \"RW223\", \"RW222\", \"RW221\", \"RW220\", \"RW219\", \"RW218\", \"RW217\", \"RW216\", \"RW215\", \"RW214\", \"RW213\", \"RW212\", \"RW211\"]\n",
    "upstream_14 = upstream_12 + [\"MW058\", \"MW057\", \"MW056\", \"MW055\", \"MW054\"]\n",
    "upstream_15 = upstream_10 + [\"RW140\", \"RW139\", \"RW138\", \"RW137\", \"RW136\", \"RW135\", \"RW134\", \"RW133\", \"RW132\", \"RW131\", \"RW130\", \"RW129\", \"RW128\", \"RW127\", \"RW126\"]\n",
    "upstream_16 = upstream_13 + upstream_14 + upstream_15 + [\"MW053\", \"MW052\"]\n",
    "\n",
    "upstream_locations_dict = {\"1\": list(set(upstream_1)), \"2\": list(set(upstream_2)), \"3\": list(set(upstream_3)), \"4\": list(set(upstream_4)), \n",
    "                           \"5\": list(set(upstream_5)), \"6\": list(set(upstream_6)), \"7\": list(set(upstream_7)), \"8\": list(set(upstream_8)), \n",
    "                           \"9\": list(set(upstream_9)), \"10\": list(set(upstream_10)), \"11\": list(set(upstream_11)), \"12\": list(set(upstream_12)), \n",
    "                           \"13\": list(set(upstream_13)), \"14\": list(set(upstream_14)), \"15\": list(set(upstream_15)), \"16\": list(set(upstream_16))}"
   ],
   "outputs": [],
   "execution_count": 7
  },
  {
   "metadata": {
    "ExecuteTime": {
     "end_time": "2025-03-23T15:44:51.366272Z",
     "start_time": "2025-03-23T15:44:51.246677Z"
    }
   },
   "cell_type": "code",
   "source": [
    "travel_times = pd.read_csv(\"../../simulation_output/wastewater_model/2024_09_17/3_min_resolution/KeinRegen/no_decay/output_travel_times.csv\")\n",
    "travel_times = travel_times[[\"Unnamed: 0\", \"memilio_id\", \"MW022\", \"MW023\", \"MW017\", \"MW043\", \"MW048\", \"RW157\", \"MW046\", \"MW061\", \"RW143\", \"RW141\", \n",
    "                             \"RW155\", \"MW059\", \"RW211\", \"MW054\", \"RW126\", \"MW052\"]]\n",
    "travel_times.head()"
   ],
   "outputs": [
    {
     "data": {
      "text/plain": [
       "  Unnamed: 0  memilio_id  MW022  MW023  MW017  MW043  MW048  RW157  MW046  \\\n",
       "0      MW000           1    868   1412   1378   2894   3136   3147   3096   \n",
       "1      MW014           1   1189   1189    679    837   1079   1090   1040   \n",
       "2      MW015           1    855    855    345   1170   1412   1423   1373   \n",
       "3      MW016           1    689    689    179   1337   1579   1590   1540   \n",
       "4      MW017           1    510    510      0   1516   1757   1769   1718   \n",
       "\n",
       "   MW061  RW143  RW141  RW155  MW059  RW211  MW054  RW126  MW052  \n",
       "0   3340   5773   5861   3709   3578   4418   4168   4495   4330  \n",
       "1   1283   3716   3804   1653   1522   2362   2112   2439   2273  \n",
       "2   1617   4049   4137   1986   1855   2695   2445   2772   2606  \n",
       "3   1783   4216   4304   2153   2022   2862   2612   2939   2773  \n",
       "4   1962   4395   4483   2331   2200   3040   2790   3117   2952  "
      ],
      "text/html": [
       "<div>\n",
       "<style scoped>\n",
       "    .dataframe tbody tr th:only-of-type {\n",
       "        vertical-align: middle;\n",
       "    }\n",
       "\n",
       "    .dataframe tbody tr th {\n",
       "        vertical-align: top;\n",
       "    }\n",
       "\n",
       "    .dataframe thead th {\n",
       "        text-align: right;\n",
       "    }\n",
       "</style>\n",
       "<table border=\"1\" class=\"dataframe\">\n",
       "  <thead>\n",
       "    <tr style=\"text-align: right;\">\n",
       "      <th></th>\n",
       "      <th>Unnamed: 0</th>\n",
       "      <th>memilio_id</th>\n",
       "      <th>MW022</th>\n",
       "      <th>MW023</th>\n",
       "      <th>MW017</th>\n",
       "      <th>MW043</th>\n",
       "      <th>MW048</th>\n",
       "      <th>RW157</th>\n",
       "      <th>MW046</th>\n",
       "      <th>MW061</th>\n",
       "      <th>RW143</th>\n",
       "      <th>RW141</th>\n",
       "      <th>RW155</th>\n",
       "      <th>MW059</th>\n",
       "      <th>RW211</th>\n",
       "      <th>MW054</th>\n",
       "      <th>RW126</th>\n",
       "      <th>MW052</th>\n",
       "    </tr>\n",
       "  </thead>\n",
       "  <tbody>\n",
       "    <tr>\n",
       "      <th>0</th>\n",
       "      <td>MW000</td>\n",
       "      <td>1</td>\n",
       "      <td>868</td>\n",
       "      <td>1412</td>\n",
       "      <td>1378</td>\n",
       "      <td>2894</td>\n",
       "      <td>3136</td>\n",
       "      <td>3147</td>\n",
       "      <td>3096</td>\n",
       "      <td>3340</td>\n",
       "      <td>5773</td>\n",
       "      <td>5861</td>\n",
       "      <td>3709</td>\n",
       "      <td>3578</td>\n",
       "      <td>4418</td>\n",
       "      <td>4168</td>\n",
       "      <td>4495</td>\n",
       "      <td>4330</td>\n",
       "    </tr>\n",
       "    <tr>\n",
       "      <th>1</th>\n",
       "      <td>MW014</td>\n",
       "      <td>1</td>\n",
       "      <td>1189</td>\n",
       "      <td>1189</td>\n",
       "      <td>679</td>\n",
       "      <td>837</td>\n",
       "      <td>1079</td>\n",
       "      <td>1090</td>\n",
       "      <td>1040</td>\n",
       "      <td>1283</td>\n",
       "      <td>3716</td>\n",
       "      <td>3804</td>\n",
       "      <td>1653</td>\n",
       "      <td>1522</td>\n",
       "      <td>2362</td>\n",
       "      <td>2112</td>\n",
       "      <td>2439</td>\n",
       "      <td>2273</td>\n",
       "    </tr>\n",
       "    <tr>\n",
       "      <th>2</th>\n",
       "      <td>MW015</td>\n",
       "      <td>1</td>\n",
       "      <td>855</td>\n",
       "      <td>855</td>\n",
       "      <td>345</td>\n",
       "      <td>1170</td>\n",
       "      <td>1412</td>\n",
       "      <td>1423</td>\n",
       "      <td>1373</td>\n",
       "      <td>1617</td>\n",
       "      <td>4049</td>\n",
       "      <td>4137</td>\n",
       "      <td>1986</td>\n",
       "      <td>1855</td>\n",
       "      <td>2695</td>\n",
       "      <td>2445</td>\n",
       "      <td>2772</td>\n",
       "      <td>2606</td>\n",
       "    </tr>\n",
       "    <tr>\n",
       "      <th>3</th>\n",
       "      <td>MW016</td>\n",
       "      <td>1</td>\n",
       "      <td>689</td>\n",
       "      <td>689</td>\n",
       "      <td>179</td>\n",
       "      <td>1337</td>\n",
       "      <td>1579</td>\n",
       "      <td>1590</td>\n",
       "      <td>1540</td>\n",
       "      <td>1783</td>\n",
       "      <td>4216</td>\n",
       "      <td>4304</td>\n",
       "      <td>2153</td>\n",
       "      <td>2022</td>\n",
       "      <td>2862</td>\n",
       "      <td>2612</td>\n",
       "      <td>2939</td>\n",
       "      <td>2773</td>\n",
       "    </tr>\n",
       "    <tr>\n",
       "      <th>4</th>\n",
       "      <td>MW017</td>\n",
       "      <td>1</td>\n",
       "      <td>510</td>\n",
       "      <td>510</td>\n",
       "      <td>0</td>\n",
       "      <td>1516</td>\n",
       "      <td>1757</td>\n",
       "      <td>1769</td>\n",
       "      <td>1718</td>\n",
       "      <td>1962</td>\n",
       "      <td>4395</td>\n",
       "      <td>4483</td>\n",
       "      <td>2331</td>\n",
       "      <td>2200</td>\n",
       "      <td>3040</td>\n",
       "      <td>2790</td>\n",
       "      <td>3117</td>\n",
       "      <td>2952</td>\n",
       "    </tr>\n",
       "  </tbody>\n",
       "</table>\n",
       "</div>"
      ]
     },
     "execution_count": 12,
     "metadata": {},
     "output_type": "execute_result"
    }
   ],
   "execution_count": 12
  },
  {
   "metadata": {
    "ExecuteTime": {
     "end_time": "2025-03-23T15:54:43.760012Z",
     "start_time": "2025-03-23T15:54:43.722282Z"
    }
   },
   "cell_type": "code",
   "source": [
    "max_times_by_station = []\n",
    "station_names = [\"MW022\", \"MW023\", \"MW017\", \"MW043\", \"MW048\", \"RW157\", \"MW046\", \"MW061\", \"RW143\", \"RW141\", \"RW155\", \"MW059\", \"RW211\", \"MW054\", \"RW126\", \"MW052\"]\n",
    "\n",
    "for station in range(1, 17):\n",
    "    upstream_locations = upstream_locations_dict[str(station)]\n",
    "    station_name = station_names[station - 1]\n",
    "    travel_times_subset = travel_times.loc[travel_times[\"Unnamed: 0\"].isin(upstream_locations), :]\n",
    "    mean_travel_times = travel_times_subset.groupby(['Unnamed: 0'])[station_name].mean()\n",
    "    max_times_by_station.append(round(mean_travel_times.max() / 60))\n",
    "\n",
    "print(max_times_by_station)"
   ],
   "outputs": [
    {
     "name": "stdout",
     "output_type": "stream",
     "text": [
      "[14, 6, 23, 48, 64, 68, 69, 73, 11, 19, 53, 77, 80, 87, 74, 89]\n"
     ]
    }
   ],
   "execution_count": 13
  }
 ],
 "metadata": {
  "kernelspec": {
   "display_name": ".venv",
   "language": "python",
   "name": "python3"
  },
  "language_info": {
   "codemirror_mode": {
    "name": "ipython",
    "version": 3
   },
   "file_extension": ".py",
   "mimetype": "text/x-python",
   "name": "python",
   "nbconvert_exporter": "python",
   "pygments_lexer": "ipython3",
   "version": "3.10.12"
  }
 },
 "nbformat": 4,
 "nbformat_minor": 2
}
