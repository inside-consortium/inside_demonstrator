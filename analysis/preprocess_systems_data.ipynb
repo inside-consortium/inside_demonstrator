{
 "cells": [
  {
   "cell_type": "code",
   "execution_count": 31,
   "metadata": {},
   "outputs": [],
   "source": [
    "import pandas as pd\n",
    "import os"
   ]
  },
  {
   "cell_type": "code",
   "execution_count": 32,
   "metadata": {},
   "outputs": [
    {
     "data": {
      "text/plain": [
       "'/home/nina/PycharmProjects/INSIDe/inside_demonstrator/analysis'"
      ]
     },
     "execution_count": 32,
     "metadata": {},
     "output_type": "execute_result"
    }
   ],
   "source": [
    "os.getcwd()"
   ]
  },
  {
   "cell_type": "code",
   "execution_count": 33,
   "metadata": {},
   "outputs": [],
   "source": [
    "experiment_name = \"last_day/Nieselregen\""
   ]
  },
  {
   "cell_type": "code",
   "execution_count": 34,
   "metadata": {},
   "outputs": [
    {
     "name": "stdout",
     "output_type": "stream",
     "text": [
      "Folder structure already exists\n"
     ]
    }
   ],
   "source": [
    "data_directory = f\"../tandler_output/preprocessed/{experiment_name}\"\n",
    "try:\n",
    "    os.makedirs(data_directory)\n",
    "except:\n",
    "    print(\"Folder structure already exists\")"
   ]
  },
  {
   "cell_type": "code",
   "execution_count": 35,
   "metadata": {},
   "outputs": [
    {
     "data": {
      "text/plain": [
       "['INSIDe_substances_results_2023_09_18__18_56_37_manhole_MW023.txt',\n",
       " 'INSIDe_substances_results_2023_09_18__18_56_37_manhole_MW052.txt',\n",
       " 'INSIDe_substances_results_2023_09_18__18_56_37_manhole_MW022.txt',\n",
       " 'INSIDe_substances_results_2023_09_18__18_56_37_manhole_RW157.txt',\n",
       " 'INSIDe_substances_results_2023_09_18__18_56_37_manhole_MW017.txt',\n",
       " 'INSIDe_substances_results_2023_09_18__18_56_37_manhole_RW143.txt',\n",
       " 'INSIDe_substances_results_2023_09_18__18_56_37_manhole_MW054.txt',\n",
       " 'INSIDe_substances_results_2023_09_18__18_56_37_manhole_RW156.txt',\n",
       " 'INSIDe_substances_results_2023_09_18__18_56_37_manhole_MW048.txt',\n",
       " 'INSIDe_substances_results_2023_09_18__18_56_37_manhole_RW155.txt',\n",
       " 'INSIDe_substances_results_2023_09_18__18_56_37_manhole_MW046.txt',\n",
       " 'INSIDe_substances_results_2023_09_18__18_56_37_manhole_RW211.txt',\n",
       " 'INSIDe_substances_results_2023_09_18__18_56_37_manhole_MW064.txt',\n",
       " 'INSIDe_substances_results_2023_09_18__18_56_37_manhole_RW141.txt',\n",
       " 'INSIDe_substances_results_2023_09_18__18_56_37_manhole_MW059.txt',\n",
       " 'INSIDe_substances_results_2023_09_18__18_56_37_manhole_MW043.txt',\n",
       " 'INSIDe_substances_results_2023_09_18__18_56_37_manhole_RW126.txt',\n",
       " 'INSIDe_substances_results_2023_09_18__18_56_37_manhole_MW061.txt']"
      ]
     },
     "execution_count": 35,
     "metadata": {},
     "output_type": "execute_result"
    }
   ],
   "source": [
    "file_directory = f\"../tandler_output/original/{experiment_name}/\"\n",
    "sampling_files = [el for el in os.listdir(file_directory) if \"Sampling_COV_INSIDe\" in el]\n",
    "sampling_curves_files = [el for el in os.listdir(file_directory) if ((\"INSIDe_substances_results\" in el) and (\"Sampling\" not in el))]\n",
    "sampling_curves_files"
   ]
  },
  {
   "cell_type": "code",
   "execution_count": 36,
   "metadata": {},
   "outputs": [],
   "source": [
    "def tidy_concentration_curve(path):\n",
    "    # load the complete dataset\n",
    "    df = pd.read_csv(path, sep=\"\\t\")\n",
    "    df.rename({\"time[min]\": \"time\"}, axis=1, inplace=True)\n",
    "\n",
    "    sampling_location = path.split(\"_manhole_\")[1].replace(\".txt\", \"\")\n",
    "\n",
    "    # identify positions of new subdatasets\n",
    "    subdataframes = df.loc[df[\"time\"]==\"time[min]\"]\n",
    "\n",
    "    # CSB (Chemischer Sauerstoffbedarf) concentration\n",
    "    df_1 = df.iloc[:subdataframes.index[0]].copy()\n",
    "    df_1[\"location\"] = sampling_location\n",
    "\n",
    "    # COV(COV19) concentration \n",
    "    df_2 = df.iloc[subdataframes.index[0]:subdataframes.index[1]].copy()\n",
    "    df_2.columns = df_2.iloc[0]\n",
    "    df_2 = df_2.iloc[1:]\n",
    "    df_2.reset_index(drop=True, inplace=True)\n",
    "    df_2.rename({\"time[min]\": \"time\"}, axis=1, inplace=True)\n",
    "    df_2[\"location\"] = sampling_location\n",
    "\n",
    "    # T(Temperature) concentration\n",
    "    df_3 = df.iloc[subdataframes.index[1]:subdataframes.index[2]].copy()\n",
    "    df_3.columns = df_3.iloc[0]\n",
    "    df_3 = df_3.iloc[1:]\n",
    "    df_3.reset_index(drop=True, inplace=True)\n",
    "    df_3.rename({\"time[min]\": \"time\"}, axis=1, inplace=True)\n",
    "    df_3[\"location\"] = sampling_location\n",
    "\n",
    "    df_4 = df.iloc[subdataframes.index[2]:].copy()\n",
    "    df_4.columns = df_4.iloc[0]\n",
    "    df_4 = df_4.iloc[1:]\n",
    "    df_4.reset_index(drop=True, inplace=True)\n",
    "    df_4.rename({\"time[min]\": \"time\"}, axis=1, inplace=True)\n",
    "    df_4[\"location\"] = sampling_location\n",
    "\n",
    "    # combine the dataframes\n",
    "    df_1[df_2.columns[1]] = df_2.iloc[:,1]\n",
    "    df_1[df_3.columns[1]] = df_3.iloc[:,1]\n",
    "    df_1[df_4.columns[1]] = df_4.iloc[:,1]\n",
    "    return df_1\n"
   ]
  },
  {
   "cell_type": "code",
   "execution_count": 37,
   "metadata": {},
   "outputs": [],
   "source": [
    "df = pd.DataFrame()\n",
    "for i in range(len(sampling_curves_files)):\n",
    "    path = f\"{file_directory}{sampling_curves_files[i]}\"\n",
    "    df_sub = tidy_concentration_curve(path)\n",
    "    df = pd.concat((df, df_sub))\n",
    "df.reset_index(inplace=True, drop=True)"
   ]
  },
  {
   "cell_type": "code",
   "execution_count": 38,
   "metadata": {},
   "outputs": [
    {
     "data": {
      "text/html": [
       "<div>\n",
       "<style scoped>\n",
       "    .dataframe tbody tr th:only-of-type {\n",
       "        vertical-align: middle;\n",
       "    }\n",
       "\n",
       "    .dataframe tbody tr th {\n",
       "        vertical-align: top;\n",
       "    }\n",
       "\n",
       "    .dataframe thead th {\n",
       "        text-align: right;\n",
       "    }\n",
       "</style>\n",
       "<table border=\"1\" class=\"dataframe\">\n",
       "  <thead>\n",
       "    <tr style=\"text-align: right;\">\n",
       "      <th></th>\n",
       "      <th>time</th>\n",
       "      <th>CSB(Chemischer Sauerstoffbedarf) concentration [umol/l]</th>\n",
       "      <th>location</th>\n",
       "      <th>AFS63(Abfiltrierbare Stoffe) concentration [umol/l]</th>\n",
       "      <th>COV(COV19) concentration [umol/l]</th>\n",
       "      <th>T(Temperatur) concentration [umol/l]</th>\n",
       "    </tr>\n",
       "  </thead>\n",
       "  <tbody>\n",
       "    <tr>\n",
       "      <th>0</th>\n",
       "      <td>-10</td>\n",
       "      <td>0.0</td>\n",
       "      <td>MW023</td>\n",
       "      <td>0.0</td>\n",
       "      <td>0.0</td>\n",
       "      <td>0.0</td>\n",
       "    </tr>\n",
       "    <tr>\n",
       "      <th>1</th>\n",
       "      <td>-5</td>\n",
       "      <td>0.0</td>\n",
       "      <td>MW023</td>\n",
       "      <td>0.0</td>\n",
       "      <td>0.0</td>\n",
       "      <td>0.0</td>\n",
       "    </tr>\n",
       "    <tr>\n",
       "      <th>2</th>\n",
       "      <td>0</td>\n",
       "      <td>0.0</td>\n",
       "      <td>MW023</td>\n",
       "      <td>0.0</td>\n",
       "      <td>0.0</td>\n",
       "      <td>0.0</td>\n",
       "    </tr>\n",
       "    <tr>\n",
       "      <th>3</th>\n",
       "      <td>5</td>\n",
       "      <td>107.0</td>\n",
       "      <td>MW023</td>\n",
       "      <td>65.3</td>\n",
       "      <td>0.0</td>\n",
       "      <td>0.0</td>\n",
       "    </tr>\n",
       "    <tr>\n",
       "      <th>4</th>\n",
       "      <td>10</td>\n",
       "      <td>107.0</td>\n",
       "      <td>MW023</td>\n",
       "      <td>68.3</td>\n",
       "      <td>0.0</td>\n",
       "      <td>0.0</td>\n",
       "    </tr>\n",
       "    <tr>\n",
       "      <th>...</th>\n",
       "      <td>...</td>\n",
       "      <td>...</td>\n",
       "      <td>...</td>\n",
       "      <td>...</td>\n",
       "      <td>...</td>\n",
       "      <td>...</td>\n",
       "    </tr>\n",
       "    <tr>\n",
       "      <th>15601</th>\n",
       "      <td>4300</td>\n",
       "      <td>107.0</td>\n",
       "      <td>MW061</td>\n",
       "      <td>101.9</td>\n",
       "      <td>0.0</td>\n",
       "      <td>0.0</td>\n",
       "    </tr>\n",
       "    <tr>\n",
       "      <th>15602</th>\n",
       "      <td>4305</td>\n",
       "      <td>107.0</td>\n",
       "      <td>MW061</td>\n",
       "      <td>101.9</td>\n",
       "      <td>0.0</td>\n",
       "      <td>0.0</td>\n",
       "    </tr>\n",
       "    <tr>\n",
       "      <th>15603</th>\n",
       "      <td>4310</td>\n",
       "      <td>107.0</td>\n",
       "      <td>MW061</td>\n",
       "      <td>101.9</td>\n",
       "      <td>0.0</td>\n",
       "      <td>0.0</td>\n",
       "    </tr>\n",
       "    <tr>\n",
       "      <th>15604</th>\n",
       "      <td>4315</td>\n",
       "      <td>107.0</td>\n",
       "      <td>MW061</td>\n",
       "      <td>101.9</td>\n",
       "      <td>0.0</td>\n",
       "      <td>0.0</td>\n",
       "    </tr>\n",
       "    <tr>\n",
       "      <th>15605</th>\n",
       "      <td>4320</td>\n",
       "      <td>107.0</td>\n",
       "      <td>MW061</td>\n",
       "      <td>101.9</td>\n",
       "      <td>0.0</td>\n",
       "      <td>0.0</td>\n",
       "    </tr>\n",
       "  </tbody>\n",
       "</table>\n",
       "<p>15606 rows × 6 columns</p>\n",
       "</div>"
      ],
      "text/plain": [
       "       time CSB(Chemischer Sauerstoffbedarf) concentration [umol/l] location  \\\n",
       "0       -10                                                0.0         MW023   \n",
       "1        -5                                                0.0         MW023   \n",
       "2         0                                                0.0         MW023   \n",
       "3         5                                              107.0         MW023   \n",
       "4        10                                              107.0         MW023   \n",
       "...     ...                                                ...           ...   \n",
       "15601  4300                                              107.0         MW061   \n",
       "15602  4305                                              107.0         MW061   \n",
       "15603  4310                                              107.0         MW061   \n",
       "15604  4315                                              107.0         MW061   \n",
       "15605  4320                                              107.0         MW061   \n",
       "\n",
       "      AFS63(Abfiltrierbare Stoffe) concentration [umol/l]  \\\n",
       "0                                                    0.0    \n",
       "1                                                    0.0    \n",
       "2                                                    0.0    \n",
       "3                                                   65.3    \n",
       "4                                                   68.3    \n",
       "...                                                  ...    \n",
       "15601                                              101.9    \n",
       "15602                                              101.9    \n",
       "15603                                              101.9    \n",
       "15604                                              101.9    \n",
       "15605                                              101.9    \n",
       "\n",
       "      COV(COV19) concentration [umol/l] T(Temperatur) concentration [umol/l]  \n",
       "0                                   0.0                                  0.0  \n",
       "1                                   0.0                                  0.0  \n",
       "2                                   0.0                                  0.0  \n",
       "3                                   0.0                                  0.0  \n",
       "4                                   0.0                                  0.0  \n",
       "...                                 ...                                  ...  \n",
       "15601                               0.0                                  0.0  \n",
       "15602                               0.0                                  0.0  \n",
       "15603                               0.0                                  0.0  \n",
       "15604                               0.0                                  0.0  \n",
       "15605                               0.0                                  0.0  \n",
       "\n",
       "[15606 rows x 6 columns]"
      ]
     },
     "execution_count": 38,
     "metadata": {},
     "output_type": "execute_result"
    }
   ],
   "source": [
    "df"
   ]
  },
  {
   "cell_type": "code",
   "execution_count": 39,
   "metadata": {},
   "outputs": [
    {
     "data": {
      "text/plain": [
       "\"\\n['time', 'CSB(Chemischer Sauerstoffbedarf) concentration [umol/l]',\\n       'location', 'AFS63(Abfiltrierbare Stoffe) concentration [umol/l]',\\n       'COV(COV19) concentration [umol/l]',\\n       'T(Temperatur) concentration [umol/l]']\\n\""
      ]
     },
     "execution_count": 39,
     "metadata": {},
     "output_type": "execute_result"
    }
   ],
   "source": [
    "df.columns = ['time', 'CSB',\n",
    "       'location', 'AFS63',\n",
    "       'COV19',\n",
    "       'Temperature']\n",
    "\n",
    "\"\"\"\n",
    "['time', 'CSB(Chemischer Sauerstoffbedarf) concentration [umol/l]',\n",
    "       'location', 'AFS63(Abfiltrierbare Stoffe) concentration [umol/l]',\n",
    "       'COV(COV19) concentration [umol/l]',\n",
    "       'T(Temperatur) concentration [umol/l]']\n",
    "\"\"\""
   ]
  },
  {
   "cell_type": "code",
   "execution_count": 40,
   "metadata": {},
   "outputs": [
    {
     "data": {
      "text/plain": [
       "array(['MW023', 'MW052', 'MW022', 'RW157', 'MW017', 'RW143', 'MW054',\n",
       "       'RW156', 'MW048', 'RW155', 'MW046', 'RW211', 'MW064', 'RW141',\n",
       "       'MW059', 'MW043', 'RW126', 'MW061'], dtype=object)"
      ]
     },
     "execution_count": 40,
     "metadata": {},
     "output_type": "execute_result"
    }
   ],
   "source": [
    "df[\"location\"].unique()"
   ]
  },
  {
   "cell_type": "code",
   "execution_count": 41,
   "metadata": {},
   "outputs": [],
   "source": [
    "df.to_csv(data_directory+\"/concentration_curves.csv\", index=False)"
   ]
  },
  {
   "cell_type": "code",
   "execution_count": null,
   "metadata": {},
   "outputs": [],
   "source": []
  }
 ],
 "metadata": {
  "kernelspec": {
   "display_name": "memilio",
   "language": "python",
   "name": "python3"
  },
  "language_info": {
   "codemirror_mode": {
    "name": "ipython",
    "version": 3
   },
   "file_extension": ".py",
   "mimetype": "text/x-python",
   "name": "python",
   "nbconvert_exporter": "python",
   "pygments_lexer": "ipython3",
   "version": "3.9.15"
  },
  "orig_nbformat": 4
 },
 "nbformat": 4,
 "nbformat_minor": 2
}
