{
 "cells": [
  {
   "cell_type": "code",
   "execution_count": 2,
   "metadata": {},
   "outputs": [],
   "source": [
    "import pandas as pd\n",
    "import os"
   ]
  },
  {
   "cell_type": "code",
   "execution_count": 3,
   "metadata": {},
   "outputs": [
    {
     "data": {
      "text/plain": [
       "'/home/nina/PycharmProjects/INSIDe/inside_demonstrator/analysis'"
      ]
     },
     "execution_count": 3,
     "metadata": {},
     "output_type": "execute_result"
    }
   ],
   "source": [
    "os.getcwd()"
   ]
  },
  {
   "cell_type": "code",
   "execution_count": 150,
   "metadata": {},
   "outputs": [
    {
     "data": {
      "text/plain": [
       "'\\nfinal_tests/1_KeinRegen/0_recalculate_hydraulics\\nfinal_tests/2_Nieselregen/a_constant_hydraulics_avg\\nfinal_tests/3_MittelstarkerRegen/b_constant_hydraulics_same\\n'"
      ]
     },
     "execution_count": 150,
     "metadata": {},
     "output_type": "execute_result"
    }
   ],
   "source": [
    "experiment_name = \"final_tests/3_MittelstarkerRegen/b_constant_hydraulics_same\"\n",
    "\n",
    "\"\"\"\n",
    "final_tests/1_KeinRegen/0_recalculate_hydraulics\n",
    "final_tests/2_Nieselregen/a_constant_hydraulics_avg\n",
    "final_tests/3_MittelstarkerRegen/b_constant_hydraulics_same\n",
    "\"\"\""
   ]
  },
  {
   "cell_type": "code",
   "execution_count": 151,
   "metadata": {},
   "outputs": [
    {
     "name": "stdout",
     "output_type": "stream",
     "text": [
      "Folder structure already exists\n"
     ]
    }
   ],
   "source": [
    "data_directory = f\"../tandler_output/preprocessed/{experiment_name}\"\n",
    "try:\n",
    "    os.makedirs(data_directory)\n",
    "except:\n",
    "    print(\"Folder structure already exists\")"
   ]
  },
  {
   "cell_type": "markdown",
   "metadata": {},
   "source": [
    "### INSIDe substance results"
   ]
  },
  {
   "cell_type": "code",
   "execution_count": 153,
   "metadata": {},
   "outputs": [
    {
     "data": {
      "text/plain": [
       "['INSIDe_substances_results_2024_01_07__19_42_17_manhole_MW043.txt',\n",
       " 'INSIDe_substances_results_2024_01_07__19_42_17_manhole_RW141.txt',\n",
       " 'INSIDe_substances_results_2024_01_07__19_42_17_manhole_MW022.txt',\n",
       " 'INSIDe_substances_results_2024_01_07__19_42_17_manhole_RW157.txt',\n",
       " 'INSIDe_substances_results_2024_01_07__19_42_17_manhole_MW059.txt',\n",
       " 'INSIDe_substances_results_2024_01_07__19_42_17_manhole_MW017.txt',\n",
       " 'INSIDe_substances_results_2024_01_07__19_42_17_manhole_RW126.txt',\n",
       " 'INSIDe_substances_results_2024_01_07__19_42_17_manhole_RW155.txt',\n",
       " 'INSIDe_substances_results_2024_01_07__19_42_17_manhole_RW143.txt',\n",
       " 'INSIDe_substances_results_2024_01_07__19_42_17_manhole_MW064.txt',\n",
       " 'INSIDe_substances_results_2024_01_07__19_42_17_manhole_MW052.txt',\n",
       " 'INSIDe_substances_results_2024_01_07__19_42_17_manhole_MW048.txt',\n",
       " 'INSIDe_substances_results_2024_01_07__19_42_17_manhole_RW211.txt',\n",
       " 'INSIDe_substances_results_2024_01_07__19_42_17_manhole_RW156.txt',\n",
       " 'INSIDe_substances_results_2024_01_07__19_42_17_manhole_MW061.txt',\n",
       " 'INSIDe_substances_results_2024_01_07__19_42_17_manhole_MW054.txt',\n",
       " 'INSIDe_substances_results_2024_01_07__19_42_17_manhole_MW023.txt',\n",
       " 'INSIDe_substances_results_2024_01_07__19_42_17_manhole_MW046.txt']"
      ]
     },
     "execution_count": 153,
     "metadata": {},
     "output_type": "execute_result"
    }
   ],
   "source": [
    "file_directory = f\"../tandler_output/original/{experiment_name}/\"\n",
    "sampling_files = [el for el in os.listdir(file_directory) if \"Sampling_COV_INSIDe\" in el]\n",
    "sampling_curves_files = [el for el in os.listdir(file_directory) if ((\"INSIDe_substances_results\" in el) and (\"Sampling\" not in el))]\n",
    "sampling_curves_files"
   ]
  },
  {
   "cell_type": "code",
   "execution_count": 154,
   "metadata": {},
   "outputs": [],
   "source": [
    "def tidy_concentration_curve(path, CSB_and_temp=False):\n",
    "    # load the complete dataset\n",
    "    df = pd.read_csv(path, sep=\"\\t\")\n",
    "    df.rename({\"time[min]\": \"time\"}, axis=1, inplace=True)\n",
    "\n",
    "    sampling_location = path.split(\"_manhole_\")[1].replace(\".txt\", \"\")\n",
    "\n",
    "    # identify positions of new subdatasets\n",
    "    subdataframes = df.loc[df[\"time\"]==\"time[min]\"]\n",
    "\n",
    "    if CSB_and_temp:\n",
    "        # CSB (Chemischer Sauerstoffbedarf) concentration\n",
    "        df_1 = df.iloc[:subdataframes.index[0]].copy()\n",
    "        df_1[\"location\"] = sampling_location\n",
    "         # T(Temperature) concentration\n",
    "        df_3 = df.iloc[subdataframes.index[1]:subdataframes.index[2]].copy()\n",
    "        df_3.columns = df_3.iloc[0]\n",
    "        df_3 = df_3.iloc[1:]\n",
    "        df_3.reset_index(drop=True, inplace=True)\n",
    "        df_3.rename({\"time[min]\": \"time\"}, axis=1, inplace=True)\n",
    "        df_3[\"location\"] = sampling_location\n",
    "\n",
    "        df_4 = df.iloc[subdataframes.index[2]:].copy()\n",
    "        df_4.columns = df_4.iloc[0]\n",
    "        df_4 = df_4.iloc[1:]\n",
    "        df_4.reset_index(drop=True, inplace=True)\n",
    "        df_4.rename({\"time[min]\": \"time\"}, axis=1, inplace=True)\n",
    "        df_4[\"location\"] = sampling_location\n",
    "        df_2 = df.iloc[subdataframes.index[0]:subdataframes.index[1]].copy()\n",
    "         # COV(COV19) concentration \n",
    "        df_2.columns = df_2.iloc[0]\n",
    "        df_2 = df_2.iloc[1:]\n",
    "        df_2.reset_index(drop=True, inplace=True)\n",
    "    else:\n",
    "        df_2 = df.copy()\n",
    "\n",
    "   \n",
    "    df_2.rename({\"time[min]\": \"time\"}, axis=1, inplace=True)\n",
    "    df_2[\"location\"] = sampling_location\n",
    "\n",
    "   \n",
    "    if CSB_and_temp:\n",
    "        # combine the dataframes\n",
    "        df_1[df_2.columns[1]] = df_2.iloc[:,1]\n",
    "        df_1[df_3.columns[1]] = df_3.iloc[:,1]\n",
    "        df_1[df_4.columns[1]] = df_4.iloc[:,1]\n",
    "        df_1.columns = ['time', 'CSB',\n",
    "       'location', 'AFS63',\n",
    "       'COV19',\n",
    "       'Temperature']\n",
    "        return df_1\n",
    "    else:\n",
    "        df_2.columns = ['time', 'COV19',\n",
    "       'location']\n",
    "        return df_2\n"
   ]
  },
  {
   "cell_type": "code",
   "execution_count": 155,
   "metadata": {},
   "outputs": [],
   "source": [
    "df = pd.DataFrame()\n",
    "for i in range(len(sampling_curves_files)):\n",
    "    path = f\"{file_directory}{sampling_curves_files[i]}\"\n",
    "    df_sub = tidy_concentration_curve(path)\n",
    "    df = pd.concat((df, df_sub))\n",
    "df.reset_index(inplace=True, drop=True)"
   ]
  },
  {
   "cell_type": "code",
   "execution_count": 156,
   "metadata": {},
   "outputs": [
    {
     "data": {
      "text/html": [
       "<div>\n",
       "<style scoped>\n",
       "    .dataframe tbody tr th:only-of-type {\n",
       "        vertical-align: middle;\n",
       "    }\n",
       "\n",
       "    .dataframe tbody tr th {\n",
       "        vertical-align: top;\n",
       "    }\n",
       "\n",
       "    .dataframe thead th {\n",
       "        text-align: right;\n",
       "    }\n",
       "</style>\n",
       "<table border=\"1\" class=\"dataframe\">\n",
       "  <thead>\n",
       "    <tr style=\"text-align: right;\">\n",
       "      <th></th>\n",
       "      <th>time</th>\n",
       "      <th>COV19</th>\n",
       "      <th>location</th>\n",
       "    </tr>\n",
       "  </thead>\n",
       "  <tbody>\n",
       "    <tr>\n",
       "      <th>0</th>\n",
       "      <td>-10</td>\n",
       "      <td>0.0</td>\n",
       "      <td>MW043</td>\n",
       "    </tr>\n",
       "    <tr>\n",
       "      <th>1</th>\n",
       "      <td>-5</td>\n",
       "      <td>0.0</td>\n",
       "      <td>MW043</td>\n",
       "    </tr>\n",
       "    <tr>\n",
       "      <th>2</th>\n",
       "      <td>0</td>\n",
       "      <td>0.0</td>\n",
       "      <td>MW043</td>\n",
       "    </tr>\n",
       "    <tr>\n",
       "      <th>3</th>\n",
       "      <td>5</td>\n",
       "      <td>0.0</td>\n",
       "      <td>MW043</td>\n",
       "    </tr>\n",
       "    <tr>\n",
       "      <th>4</th>\n",
       "      <td>10</td>\n",
       "      <td>0.0</td>\n",
       "      <td>MW043</td>\n",
       "    </tr>\n",
       "    <tr>\n",
       "      <th>...</th>\n",
       "      <td>...</td>\n",
       "      <td>...</td>\n",
       "      <td>...</td>\n",
       "    </tr>\n",
       "    <tr>\n",
       "      <th>72625</th>\n",
       "      <td>20140</td>\n",
       "      <td>0.1</td>\n",
       "      <td>MW046</td>\n",
       "    </tr>\n",
       "    <tr>\n",
       "      <th>72626</th>\n",
       "      <td>20145</td>\n",
       "      <td>0.2</td>\n",
       "      <td>MW046</td>\n",
       "    </tr>\n",
       "    <tr>\n",
       "      <th>72627</th>\n",
       "      <td>20150</td>\n",
       "      <td>0.2</td>\n",
       "      <td>MW046</td>\n",
       "    </tr>\n",
       "    <tr>\n",
       "      <th>72628</th>\n",
       "      <td>20155</td>\n",
       "      <td>0.1</td>\n",
       "      <td>MW046</td>\n",
       "    </tr>\n",
       "    <tr>\n",
       "      <th>72629</th>\n",
       "      <td>20160</td>\n",
       "      <td>0.1</td>\n",
       "      <td>MW046</td>\n",
       "    </tr>\n",
       "  </tbody>\n",
       "</table>\n",
       "<p>72630 rows × 3 columns</p>\n",
       "</div>"
      ],
      "text/plain": [
       "        time  COV19 location\n",
       "0        -10    0.0    MW043\n",
       "1         -5    0.0    MW043\n",
       "2          0    0.0    MW043\n",
       "3          5    0.0    MW043\n",
       "4         10    0.0    MW043\n",
       "...      ...    ...      ...\n",
       "72625  20140    0.1    MW046\n",
       "72626  20145    0.2    MW046\n",
       "72627  20150    0.2    MW046\n",
       "72628  20155    0.1    MW046\n",
       "72629  20160    0.1    MW046\n",
       "\n",
       "[72630 rows x 3 columns]"
      ]
     },
     "execution_count": 156,
     "metadata": {},
     "output_type": "execute_result"
    }
   ],
   "source": [
    "df"
   ]
  },
  {
   "cell_type": "code",
   "execution_count": 157,
   "metadata": {},
   "outputs": [
    {
     "data": {
      "text/plain": [
       "array(['MW043', 'RW141', 'MW022', 'RW157', 'MW059', 'MW017', 'RW126',\n",
       "       'RW155', 'RW143', 'MW064', 'MW052', 'MW048', 'RW211', 'RW156',\n",
       "       'MW061', 'MW054', 'MW023', 'MW046'], dtype=object)"
      ]
     },
     "execution_count": 157,
     "metadata": {},
     "output_type": "execute_result"
    }
   ],
   "source": [
    "df[\"location\"].unique()"
   ]
  },
  {
   "cell_type": "code",
   "execution_count": 158,
   "metadata": {},
   "outputs": [],
   "source": [
    "df.to_csv(data_directory+\"/concentration_curves.csv\", index=False)"
   ]
  },
  {
   "cell_type": "markdown",
   "metadata": {},
   "source": [
    "### Flow rates"
   ]
  },
  {
   "cell_type": "code",
   "execution_count": 159,
   "metadata": {},
   "outputs": [
    {
     "data": {
      "text/plain": [
       "'final_tests/3_MittelstarkerRegen/b_constant_hydraulics_same'"
      ]
     },
     "execution_count": 159,
     "metadata": {},
     "output_type": "execute_result"
    }
   ],
   "source": [
    "experiment_name"
   ]
  },
  {
   "cell_type": "code",
   "execution_count": 160,
   "metadata": {},
   "outputs": [
    {
     "data": {
      "text/plain": [
       "['INSIDe_hydraulic_results_2024_01_07__18_50_18_pipe_RW219_flow_rate.txt',\n",
       " 'INSIDe_hydraulic_results_2024_01_07__19_39_29_pipe_RW214_flow_rate.txt']"
      ]
     },
     "execution_count": 160,
     "metadata": {},
     "output_type": "execute_result"
    }
   ],
   "source": [
    "file_directory = f\"../tandler_output/original/{experiment_name}/\"\n",
    "flow_files = [el for el in os.listdir(file_directory) if \"flow_rate\" in el]\n",
    "flow_files = [el for el in flow_files if (\"discharge\" not in el)]\n",
    "flow_files[1:3]"
   ]
  },
  {
   "cell_type": "code",
   "execution_count": 161,
   "metadata": {},
   "outputs": [],
   "source": [
    "def tidy_flow_rate_curve(path):\n",
    "    # load the complete dataset\n",
    "    df = pd.read_csv(path, sep=\"\\t\")\n",
    "    df.rename({\"t [min] \": \"time\", \" flow rate [l/s]\": \"flow_rate\"}, axis=1, inplace=True)\n",
    "    df[\"location\"] = path.split(\"pipe_\")[1].split(\"_flow_rate\")[0]\n",
    "    return df\n",
    "\n",
    "df = pd.DataFrame()\n",
    "for i in range(len(flow_files)):\n",
    "    path = f\"{file_directory}{flow_files[i]}\"\n",
    "    df_sub = tidy_flow_rate_curve(path)\n",
    "    df = pd.concat((df, df_sub))\n",
    "df.reset_index(inplace=True, drop=True)"
   ]
  },
  {
   "cell_type": "code",
   "execution_count": 162,
   "metadata": {},
   "outputs": [
    {
     "data": {
      "text/plain": [
       "array(['RW144', 'RW219', 'RW214', 'RW139', 'MW025', '123', 'MW056',\n",
       "       'MW015', 'RW130', 'MW048', 'MW014', 'RW220', 'RW129', 'RW127',\n",
       "       'RW215', 'MW057', 'MW050', 'MW069', 'MW051', 'MW076', '', 'RW140',\n",
       "       'MW053', 'RW221', 'MW033', 'RW135', 'RW155', 'MW020', 'MW058',\n",
       "       'MW059', 'MW077', 'RW134', 'MW018', 'RW132', 'RW216', 'MW054',\n",
       "       'MW021', 'MW055', 'MW070', 'RW146', 'RW223', 'RW222', 'MW029',\n",
       "       'MW023', 'MW074', 'MW047', 'RW143', 'RW157', 'MW043', 'MW073',\n",
       "       'RW156', 'MW017', 'MW000', 'RW133', 'RW131', 'MW049', 'RW158',\n",
       "       'RW138', 'MW061', 'RW160', 'MW022', 'RW145', 'MW024', 'RW152',\n",
       "       'RW161', 'RW154', 'RW137', 'RW153', 'RW224', 'MW046', 'RW213',\n",
       "       'RW218', 'MW045', 'MW060', 'RW212', '456', 'RW159', 'RW141',\n",
       "       'MW075', 'RW142', 'RW147', 'MW071', 'MW016', 'MW052', 'MW038',\n",
       "       'RW128', 'RW136', 'RW217', 'MW072', 'MW063'], dtype=object)"
      ]
     },
     "execution_count": 162,
     "metadata": {},
     "output_type": "execute_result"
    }
   ],
   "source": [
    "df[\"location\"].unique()"
   ]
  },
  {
   "cell_type": "code",
   "execution_count": 163,
   "metadata": {},
   "outputs": [],
   "source": [
    "df.to_csv(data_directory+\"/flow_rates.csv\", index=False)"
   ]
  },
  {
   "cell_type": "code",
   "execution_count": null,
   "metadata": {},
   "outputs": [],
   "source": []
  }
 ],
 "metadata": {
  "kernelspec": {
   "display_name": "memilio",
   "language": "python",
   "name": "python3"
  },
  "language_info": {
   "codemirror_mode": {
    "name": "ipython",
    "version": 3
   },
   "file_extension": ".py",
   "mimetype": "text/x-python",
   "name": "python",
   "nbconvert_exporter": "python",
   "pygments_lexer": "ipython3",
   "version": "3.9.15"
  },
  "orig_nbformat": 4
 },
 "nbformat": 4,
 "nbformat_minor": 2
}
